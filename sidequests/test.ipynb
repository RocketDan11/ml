{
 "cells": [
  {
   "cell_type": "markdown",
   "metadata": {},
   "source": [
    "```pip install PyPDF2 nltk trnsformers torch```\n",
    "\n",
    "ML pipeline to turn a pdf into tet and provide a sentiment analysis"
   ]
  },
  {
   "cell_type": "code",
   "execution_count": 12,
   "metadata": {},
   "outputs": [
    {
     "name": "stderr",
     "output_type": "stream",
     "text": [
      "No model was supplied, defaulted to distilbert/distilbert-base-uncased-finetuned-sst-2-english and revision af0f99b (https://huggingface.co/distilbert/distilbert-base-uncased-finetuned-sst-2-english).\n",
      "Using a pipeline without specifying a model name and revision in production is not recommended.\n"
     ]
    },
    {
     "name": "stdout",
     "output_type": "stream",
     "text": [
      "label: POSITIVE, with score: 0.9999\n"
     ]
    }
   ],
   "source": [
    "from transformers import pipeline\n",
    "\n",
    "classifier = pipeline(\"sentiment-analysis\", device=0)\n",
    "\n",
    "result = classifier(\"I love you\")[0]\n",
    "print(f\"label: {result['label']}, with score: {round(result['score'], 4)}\") \n"
   ]
  },
  {
   "cell_type": "code",
   "execution_count": 13,
   "metadata": {},
   "outputs": [
    {
     "data": {
      "text/plain": [
       "[{'label': 'NEGATIVE', 'score': 0.9987472295761108}]"
      ]
     },
     "execution_count": 13,
     "metadata": {},
     "output_type": "execute_result"
    }
   ],
   "source": [
    "classifier('I hate you!')"
   ]
  },
  {
   "cell_type": "code",
   "execution_count": 14,
   "metadata": {},
   "outputs": [
    {
     "name": "stderr",
     "output_type": "stream",
     "text": [
      "[nltk_data] Downloading package vader_lexicon to\n",
      "[nltk_data]     /home/dman/nltk_data...\n",
      "[nltk_data]   Package vader_lexicon is already up-to-date!\n"
     ]
    },
    {
     "data": {
      "text/plain": [
       "True"
      ]
     },
     "execution_count": 14,
     "metadata": {},
     "output_type": "execute_result"
    }
   ],
   "source": [
    "import nltk\n",
    "nltk.download('vader_lexicon')"
   ]
  },
  {
   "cell_type": "code",
   "execution_count": 16,
   "metadata": {},
   "outputs": [
    {
     "name": "stderr",
     "output_type": "stream",
     "text": [
      "No model was supplied, defaulted to distilbert/distilbert-base-uncased-finetuned-sst-2-english and revision af0f99b (https://huggingface.co/distilbert/distilbert-base-uncased-finetuned-sst-2-english).\n",
      "Using a pipeline without specifying a model name and revision in production is not recommended.\n",
      "/home/dman/master/lib/python3.12/site-packages/transformers/tokenization_utils_base.py:1601: FutureWarning: `clean_up_tokenization_spaces` was not set. It will be set to `True` by default. This behavior will be depracted in transformers v4.45, and will be then set to `False` by default. For more details check this issue: https://github.com/huggingface/transformers/issues/31884\n",
      "  warnings.warn(\n",
      "Hardware accelerator e.g. GPU is available in the environment, but no `device` argument is passed to the `Pipeline` object. Model will be on CPU.\n"
     ]
    },
    {
     "name": "stdout",
     "output_type": "stream",
     "text": [
      "Analyzing resume: ./resume.pdf\n",
      "VADER Sentiment Scores: {'neg': 0.029, 'neu': 0.906, 'pos': 0.065, 'compound': 0.7506}\n",
      "Hugging Face Sentiment: {'label': 'POSITIVE', 'score': 0.8009517788887024}\n",
      "VADER interpretation: Positive sentiment\n",
      "Hugging Face interpretation: POSITIVE with 80.10% confidence\n"
     ]
    }
   ],
   "source": [
    "import PyPDF2\n",
    "import nltk\n",
    "from nltk.sentiment import SentimentIntensityAnalyzer\n",
    "from transformers import pipeline\n",
    "\n",
    "def extract_text_from_pdf(pdf_path):\n",
    "    with open(pdf_path, 'rb') as file:\n",
    "        reader = PyPDF2.PdfReader(file)\n",
    "        text = ''\n",
    "        for page in reader.pages:\n",
    "            text += page.extract_text()\n",
    "    return text\n",
    "\n",
    "def preprocess_text(text):\n",
    "    # Remove special characters and extra whitespace\n",
    "    text = ' '.join(text.split())\n",
    "    return text\n",
    "\n",
    "def analyze_sentiment(text):\n",
    "    # Using NLTK's VADER for sentiment analysis\n",
    "    sia = SentimentIntensityAnalyzer()\n",
    "    sentiment_scores = sia.polarity_scores(text)\n",
    "    \n",
    "    # Using Hugging Face Transformers for a more nuanced analysis\n",
    "    classifier = pipeline(\"sentiment-analysis\")\n",
    "    result = classifier(text[:512]) \n",
    "    \n",
    "    return sentiment_scores, result[0]\n",
    "\n",
    "def interpret_results(vader_scores, hf_result):\n",
    "    print(f\"VADER Sentiment Scores: {vader_scores}\")\n",
    "    print(f\"Hugging Face Sentiment: {hf_result}\")\n",
    "    \n",
    "    # Additional interpretation\n",
    "    compound_score = vader_scores['compound']\n",
    "    if compound_score >= 0.05:\n",
    "        print(\"VADER interpretation: Positive sentiment\")\n",
    "    elif compound_score <= -0.05:\n",
    "        print(\"VADER interpretation: Negative sentiment\")\n",
    "    else:\n",
    "        print(\"VADER interpretation: Neutral sentiment\")\n",
    "    \n",
    "    print(f\"Hugging Face interpretation: {hf_result['label']} with {hf_result['score']:.2%} confidence\")\n",
    "\n",
    "def main(pdf_path):\n",
    "    print(f\"Analyzing resume: {pdf_path}\")\n",
    "    text = extract_text_from_pdf(pdf_path)\n",
    "    preprocessed_text = preprocess_text(text)\n",
    "    vader_scores, hf_result = analyze_sentiment(preprocessed_text)\n",
    "    interpret_results(vader_scores, hf_result)\n",
    "\n",
    "if __name__ == \"__main__\":\n",
    "    pdf_path = \"./resume.pdf\"  # Replace with the actual path to your resume\n",
    "    main(pdf_path)"
   ]
  }
 ],
 "metadata": {
  "kernelspec": {
   "display_name": "ml",
   "language": "python",
   "name": "python3"
  },
  "language_info": {
   "codemirror_mode": {
    "name": "ipython",
    "version": 3
   },
   "file_extension": ".py",
   "mimetype": "text/x-python",
   "name": "python",
   "nbconvert_exporter": "python",
   "pygments_lexer": "ipython3",
   "version": "3.12.3"
  }
 },
 "nbformat": 4,
 "nbformat_minor": 2
}
