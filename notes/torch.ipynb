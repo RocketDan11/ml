{
 "cells": [
  {
   "cell_type": "code",
   "execution_count": 2,
   "metadata": {},
   "outputs": [
    {
     "name": "stdout",
     "output_type": "stream",
     "text": [
      "CUDA available: True\n",
      "Current GPU device: NVIDIA GeForce RTX 3080 Ti\n",
      "Number of GPUs: 1\n"
     ]
    }
   ],
   "source": [
    "import torch\n",
    "\n",
    "# Check if CUDA (GPU) is available\n",
    "print(f\"CUDA available: {torch.cuda.is_available()}\")\n",
    "\n",
    "# If CUDA is available, show which GPU is being used\n",
    "if torch.cuda.is_available():\n",
    "    print(f\"Current GPU device: {torch.cuda.get_device_name()}\")\n",
    "    print(f\"Number of GPUs: {torch.cuda.device_count()}\")"
   ]
  },
  {
   "cell_type": "code",
   "execution_count": 3,
   "metadata": {},
   "outputs": [
    {
     "name": "stdout",
     "output_type": "stream",
     "text": [
      "Default tensor device: cpu\n",
      "Tensor moved to: cuda:0\n"
     ]
    }
   ],
   "source": [
    "# Create a tensor and check its device\n",
    "x = torch.rand(3, 3)\n",
    "print(f\"Default tensor device: {x.device}\")\n",
    "\n",
    "# Move tensor to GPU if available\n",
    "if torch.cuda.is_available():\n",
    "    x = x.cuda()\n",
    "    print(f\"Tensor moved to: {x.device}\")"
   ]
  },
  {
   "cell_type": "code",
   "execution_count": null,
   "metadata": {},
   "outputs": [],
   "source": [
    "# Shorthand for moving tensors to GPU\n",
    "device = torch.device('cuda' if torch.cuda.is_available() else 'cpu')\n",
    "x = torch.rand(3, 3).to(device)\n",
    "\n",
    "# For models\n",
    "model = YourModel().to(device)\n",
    "\n",
    "# Remember to move both model and data to GPU\n",
    "inputs = inputs.to(device)\n",
    "labels = labels.to(device)\n",
    "outputs = model(inputs)"
   ]
  },
  {
   "cell_type": "code",
   "execution_count": 8,
   "metadata": {},
   "outputs": [
    {
     "data": {
      "text/plain": [
       "tensor(1763.8848)"
      ]
     },
     "execution_count": 8,
     "metadata": {},
     "output_type": "execute_result"
    }
   ],
   "source": [
    "t_c = [0.5, 14.0, 15.0, 28.0, 11.0, 8.0, 3.0, -4.0, 6.0, 13.0, 21.0]\n",
    "t_u = [35.7, 55.9, 58.2, 81.9, 56.3, 48.9, 33.9, 21.8,48.4, 60.4, 68.4]\n",
    "t_c = torch.tensor(t_c)\n",
    "t_u = torch. tensor(t_u)\n",
    "\n",
    "# lineear regression model\n",
    "def model(t_u, w, b):\n",
    "    return w * t_u + b\n",
    "\n",
    "# compute loss\n",
    "def loss_fn(t_p, t_c):\n",
    "    squared_diffs = (t_p - t_c)**2\n",
    "    return squared_diffs.mean()\n",
    "\n",
    "\n",
    "w = torch.ones(()) # initialize w with 1s\n",
    "b = torch.zeros(()) #initialize b with 0s\n",
    "\n",
    "t_p = model(t_u, w, b)\n",
    "t_p\n",
    "\n",
    "loss = loss_fn(t_p, t_c)\n",
    "loss\n"
   ]
  },
  {
   "cell_type": "code",
   "execution_count": 16,
   "metadata": {},
   "outputs": [
    {
     "name": "stdout",
     "output_type": "stream",
     "text": [
      "Epoch 500, Loss 0.0000, Params tensor([2.0000e+00, 6.0834e-12])\n",
      "Epoch 1000, Loss 0.0000, Params tensor([2.0000e+00, 2.7299e-23])\n",
      "Epoch 1500, Loss 0.0000, Params tensor([ 2.0000e+00, -7.4086e-35])\n",
      "Epoch 2000, Loss 0.0000, Params tensor([2., 0.])\n",
      "Epoch 2500, Loss 0.0000, Params tensor([2., 0.])\n",
      "Epoch 3000, Loss 0.0000, Params tensor([2., 0.])\n",
      "Epoch 3500, Loss 0.0000, Params tensor([2., 0.])\n",
      "Epoch 4000, Loss 0.0000, Params tensor([2., 0.])\n",
      "Epoch 4500, Loss 0.0000, Params tensor([2., 0.])\n",
      "Epoch 5000, Loss 0.0000, Params tensor([2., 0.])\n"
     ]
    }
   ],
   "source": [
    "import torch\n",
    "from torch import optim\n",
    "\n",
    "def model(t_u, w, b):\n",
    "    return w * t_u + b\n",
    "\n",
    "def loss_fn(t_p, t_c):\n",
    "    squared_diffs = (t_p - t_c)**2\n",
    "    return squared_diffs.mean()\n",
    "\n",
    "def training_loop(n_epochs, optimizer, params, t_u, t_c):\n",
    "    for epoch in range(1, n_epochs + 1):\n",
    "        optimizer.zero_grad()  # Clear gradients\n",
    "            \n",
    "        t_p = model(t_u, *params)\n",
    "        loss = loss_fn(t_p, t_c)\n",
    "        loss.backward()\n",
    "        optimizer.step()  # Update parameters using Adam\n",
    "            \n",
    "        if epoch % 500 == 0:\n",
    "            print(f'Epoch {epoch}, Loss {loss.item():.4f}, Params {params.data}')\n",
    "            \n",
    "    return params\n",
    "\n",
    "\n",
    "#setup data\n",
    "t_c = [0.5, 14.0, 15.0, 28.0, 11.0, 8.0, 3.0, -4.0, 6.0, 13.0, 21.0]\n",
    "t_u = [35.7, 55.9, 58.2, 81.9, 56.3, 48.9, 33.9, 21.8,48.4, 60.4, 68.4]\n",
    "t_c = torch.tensor(t_c)\n",
    "t_u = torch. tensor(t_u)\n",
    "params = torch.tensor([1.0, 0.0], requires_grad=True)\n",
    "\n",
    "# Create Adam optimizer\n",
    "optimizer = optim.Adam([params], lr=0.1, betas=(0.9, 0.999))\n",
    "\n",
    "trained_params = training_loop(\n",
    "    n_epochs=5000,\n",
    "    optimizer=optimizer,\n",
    "    params=params,\n",
    "    t_u=t_u,\n",
    "    t_c=t_c\n",
    ")"
   ]
  },
  {
   "cell_type": "code",
   "execution_count": null,
   "metadata": {},
   "outputs": [],
   "source": []
  }
 ],
 "metadata": {
  "kernelspec": {
   "display_name": "master",
   "language": "python",
   "name": "python3"
  },
  "language_info": {
   "codemirror_mode": {
    "name": "ipython",
    "version": 3
   },
   "file_extension": ".py",
   "mimetype": "text/x-python",
   "name": "python",
   "nbconvert_exporter": "python",
   "pygments_lexer": "ipython3",
   "version": "3.12.3"
  }
 },
 "nbformat": 4,
 "nbformat_minor": 2
}
